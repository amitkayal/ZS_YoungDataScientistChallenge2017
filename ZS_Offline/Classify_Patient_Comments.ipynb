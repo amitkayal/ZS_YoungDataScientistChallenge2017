{
 "cells": [
  {
   "cell_type": "code",
   "execution_count": 1,
   "metadata": {
    "collapsed": true
   },
   "outputs": [],
   "source": [
    "# Importing important files\n",
    "import pandas as pd\n",
    "import numpy as np\n",
    "\n",
    "import re\n",
    "from nltk.tokenize import word_tokenize\n",
    "import nltk\n",
    "from nltk.stem import PorterStemmer\n",
    "from sklearn import metrics\n",
    "from nltk.corpus import stopwords\n",
    "from sklearn.naive_bayes import MultinomialNB,BernoulliNB\n",
    "from sklearn.naive_bayes import GaussianNB\n",
    "from sklearn.ensemble import RandomForestClassifier\n",
    "from sklearn.linear_model import LogisticRegression\n",
    "from sklearn.feature_extraction.text import TfidfTransformer\n",
    "from sklearn.metrics import roc_auc_score\n",
    "\n",
    "from sklearn.cross_validation import cross_val_score\n",
    "from sklearn import cross_validation\n",
    "from sklearn.grid_search import GridSearchCV\n",
    "\n",
    "from sklearn.feature_extraction.text import CountVectorizer"
   ]
  },
  {
   "cell_type": "code",
   "execution_count": 2,
   "metadata": {
    "collapsed": false
   },
   "outputs": [
    {
     "name": "stdout",
     "output_type": "stream",
     "text": [
      "(1157, 9)\n"
     ]
    }
   ],
   "source": [
    "train_data = pd.read_csv('train.csv')\n",
    "test_data = pd.read_csv('test.csv')\n",
    "test_index = test_data.index\n",
    "\n",
    "print train_data.shape"
   ]
  },
  {
   "cell_type": "code",
   "execution_count": 3,
   "metadata": {
    "collapsed": false
   },
   "outputs": [],
   "source": [
    "# Remove the rows of train data where there no is text at all\n",
    "\n",
    "train_data.dropna(axis = 0, subset=['TRANS_CONV_TEXT'], inplace = True)"
   ]
  },
  {
   "cell_type": "code",
   "execution_count": 4,
   "metadata": {
    "collapsed": false
   },
   "outputs": [],
   "source": [
    "# Clean the text. Convert it to lowercase, and remove any special characters or digits if any\n",
    "# The stopwords such as I, me, us etc were not removed because such words are most likely to be associated with a Patient view.\n",
    "\n",
    "def clean_conversation(text):\n",
    "    text = text.lower()\n",
    "    letters_only = re.sub(\"[^a-zA-Z]\", \" \", text) \n",
    "    return letters_only"
   ]
  },
  {
   "cell_type": "code",
   "execution_count": 5,
   "metadata": {
    "collapsed": false
   },
   "outputs": [],
   "source": [
    "train_data['TRANS_CONV_TEXT'] = train_data.apply(lambda x: clean_conversation(x['TRANS_CONV_TEXT']), axis = 1 )\n",
    "test_data['TRANS_CONV_TEXT'] = test_data.apply(lambda x: clean_conversation(x['TRANS_CONV_TEXT']), axis = 1 )"
   ]
  },
  {
   "cell_type": "code",
   "execution_count": 6,
   "metadata": {
    "collapsed": false
   },
   "outputs": [],
   "source": [
    "vectorizer = CountVectorizer(analyzer = \"word\",   \\\n",
    "                             tokenizer = None,    \\\n",
    "                             preprocessor = None, \\\n",
    "                             stop_words = None,   \\\n",
    "                             max_features = 1000) \n",
    "\n",
    "count_feature = vectorizer.fit_transform(train_data['TRANS_CONV_TEXT'])\n",
    "count_feature_test = vectorizer.fit_transform(test_data['TRANS_CONV_TEXT'])"
   ]
  },
  {
   "cell_type": "code",
   "execution_count": 7,
   "metadata": {
    "collapsed": false
   },
   "outputs": [
    {
     "data": {
      "text/plain": [
       "(1156, 1000)"
      ]
     },
     "execution_count": 7,
     "metadata": {},
     "output_type": "execute_result"
    }
   ],
   "source": [
    "# TRAIN DATA\n",
    "tf_transformer = TfidfTransformer(use_idf=False).fit(count_feature)\n",
    "X_train = tf_transformer.transform(count_feature)\n",
    "X_train.shape"
   ]
  },
  {
   "cell_type": "code",
   "execution_count": 8,
   "metadata": {
    "collapsed": false
   },
   "outputs": [
    {
     "data": {
      "text/plain": [
       "(571, 1000)"
      ]
     },
     "execution_count": 8,
     "metadata": {},
     "output_type": "execute_result"
    }
   ],
   "source": [
    "# TEST DATA\n",
    "tf_transformer_test = TfidfTransformer(use_idf=False).fit(count_feature_test)\n",
    "X_test = tf_transformer.transform(count_feature_test)\n",
    "X_test.shape"
   ]
  },
  {
   "cell_type": "code",
   "execution_count": 52,
   "metadata": {
    "collapsed": false
   },
   "outputs": [
    {
     "data": {
      "text/plain": [
       "{'max_depth': 60, 'n_estimators': 200}"
      ]
     },
     "execution_count": 52,
     "metadata": {},
     "output_type": "execute_result"
    }
   ],
   "source": [
    "# Getting the best parameters\n",
    "\n",
    "rf_parameters = {'n_estimators':[50,100,150,200],'max_depth':[20,40,60,80]}\n",
    "rf_model = RandomForestClassifier()\n",
    "clf = GridSearchCV(rf_model,rf_parameters)\n",
    "clf.fit(X_train,train_data.Patient_Tag)\n",
    "\n",
    "clf.best_params_"
   ]
  },
  {
   "cell_type": "code",
   "execution_count": 53,
   "metadata": {
    "collapsed": false
   },
   "outputs": [
    {
     "data": {
      "text/plain": [
       "array([ 0.96997052,  0.93800714,  0.96821476,  0.96000728])"
      ]
     },
     "execution_count": 53,
     "metadata": {},
     "output_type": "execute_result"
    }
   ],
   "source": [
    "# 80 and 100 - 0.964\n",
    "# 20 and 200 - 0.960\n",
    "# 60 and 150 - 0.9573\n",
    "# 20 and 50 - 0.9642\n",
    "# 60 and 200 - 0.9652\n",
    "# Cross Validation\n",
    "\n",
    "model = RandomForestClassifier(n_estimators = 200, max_depth = 60)\n",
    "kfold = cross_validation.KFold((X_train).shape[0], n_folds=4)\n",
    "result = cross_val_score(model, X_train, train_data.Patient_Tag, cv=kfold, scoring='roc_auc')\n",
    "result"
   ]
  },
  {
   "cell_type": "code",
   "execution_count": 54,
   "metadata": {
    "collapsed": false
   },
   "outputs": [
    {
     "data": {
      "text/plain": [
       "0.96529700913874272"
      ]
     },
     "execution_count": 54,
     "metadata": {},
     "output_type": "execute_result"
    }
   ],
   "source": [
    "# Applying Random Forest Classifier - Best Score\n",
    "\n",
    "model = RandomForestClassifier(n_estimators = 100, max_depth = 80)\n",
    "model.fit(X_train[:750], train_data.Patient_Tag[:750])\n",
    "result = model.predict_proba(X_train[750:])\n",
    "roc_auc_score(train_data.Patient_Tag[750:], np.array(result[:,1]))"
   ]
  },
  {
   "cell_type": "code",
   "execution_count": 56,
   "metadata": {
    "collapsed": false
   },
   "outputs": [],
   "source": [
    "# Applying model\n",
    "model.fit(X_train,train_data.Patient_Tag)\n",
    "prob = model.predict_proba(X_test) \n",
    "\n",
    "submission = pd.DataFrame()\n",
    "submission['Index'] = test_index\n",
    "submission['Output'] = prob[:,1]\n",
    "submission.to_csv('Pavleen_Kaur_19Nov95.csv', index = False)"
   ]
  },
  {
   "cell_type": "code",
   "execution_count": 14,
   "metadata": {
    "collapsed": false
   },
   "outputs": [
    {
     "data": {
      "text/plain": [
       "array([ 0.94716286,  0.93979228,  0.96337286,  0.94490539])"
      ]
     },
     "execution_count": 14,
     "metadata": {},
     "output_type": "execute_result"
    }
   ],
   "source": [
    "# Applying Naive Bayes Classifier\n",
    "\n",
    "model = MultinomialNB()\n",
    "kfold = cross_validation.KFold((X_train).shape[0], n_folds=4)\n",
    "result = cross_val_score(model, X_train, train_data.Patient_Tag, cv=kfold, scoring='roc_auc')\n",
    "\n",
    "result"
   ]
  },
  {
   "cell_type": "code",
   "execution_count": 15,
   "metadata": {
    "collapsed": false
   },
   "outputs": [
    {
     "data": {
      "text/plain": [
       "0.94354057047909168"
      ]
     },
     "execution_count": 15,
     "metadata": {},
     "output_type": "execute_result"
    }
   ],
   "source": [
    "model = MultinomialNB()\n",
    "model.fit(X_train[:750], train_data.Patient_Tag[:750])\n",
    "result = model.predict_proba(X_train[750:])\n",
    "roc_auc_score(train_data.Patient_Tag[750:], np.array(result[:,1]))"
   ]
  },
  {
   "cell_type": "code",
   "execution_count": 16,
   "metadata": {
    "collapsed": false
   },
   "outputs": [
    {
     "data": {
      "text/plain": [
       "array([ 0.95165807,  0.93865628,  0.96587615,  0.95422125])"
      ]
     },
     "execution_count": 16,
     "metadata": {},
     "output_type": "execute_result"
    }
   ],
   "source": [
    "# Applying Logistic Regression\n",
    "model=LogisticRegression()\n",
    "\n",
    "kfold = cross_validation.KFold((X_train).shape[0], n_folds=4)\n",
    "result = cross_val_score(model, X_train, train_data.Patient_Tag, cv=kfold, scoring='roc_auc')\n",
    "\n",
    "result"
   ]
  },
  {
   "cell_type": "code",
   "execution_count": 17,
   "metadata": {
    "collapsed": false
   },
   "outputs": [
    {
     "data": {
      "text/plain": [
       "0.95638327333148709"
      ]
     },
     "execution_count": 17,
     "metadata": {},
     "output_type": "execute_result"
    }
   ],
   "source": [
    "model=LogisticRegression()\n",
    "model.fit(X_train[:750], train_data.Patient_Tag[:750])\n",
    "result = model.predict_proba(X_train[750:])\n",
    "roc_auc_score(train_data.Patient_Tag[750:], np.array(result[:,1]))"
   ]
  },
  {
   "cell_type": "code",
   "execution_count": null,
   "metadata": {
    "collapsed": true
   },
   "outputs": [],
   "source": []
  }
 ],
 "metadata": {
  "anaconda-cloud": {},
  "kernelspec": {
   "display_name": "Python [conda root]",
   "language": "python",
   "name": "conda-root-py"
  },
  "language_info": {
   "codemirror_mode": {
    "name": "ipython",
    "version": 2
   },
   "file_extension": ".py",
   "mimetype": "text/x-python",
   "name": "python",
   "nbconvert_exporter": "python",
   "pygments_lexer": "ipython2",
   "version": "2.7.12"
  }
 },
 "nbformat": 4,
 "nbformat_minor": 1
}
