{
 "cells": [
  {
   "cell_type": "code",
   "execution_count": 1,
   "metadata": {
    "collapsed": true
   },
   "outputs": [],
   "source": [
    "# Importing the requisite libraries\n",
    "import numpy as np\n",
    "import pandas as pd"
   ]
  },
  {
   "cell_type": "code",
   "execution_count": 2,
   "metadata": {
    "collapsed": true
   },
   "outputs": [],
   "source": [
    "# Loading the files\n",
    "train = pd.read_csv(\"train.csv\")\n",
    "test = pd.read_csv(\"test.csv\")"
   ]
  },
  {
   "cell_type": "code",
   "execution_count": 3,
   "metadata": {
    "collapsed": false
   },
   "outputs": [],
   "source": [
    "# Getting Year from Date\n",
    "def get_year(x):\n",
    "    date = str(x)\n",
    "    year = date[:4]\n",
    "    return year"
   ]
  },
  {
   "cell_type": "code",
   "execution_count": 4,
   "metadata": {
    "collapsed": true
   },
   "outputs": [],
   "source": [
    "# Adding the Year column to Train Data\n",
    "train['Year'] = train.apply(lambda x : get_year(x['Date']), axis=1)"
   ]
  },
  {
   "cell_type": "code",
   "execution_count": 5,
   "metadata": {
    "collapsed": true
   },
   "outputs": [],
   "source": [
    "# Getting Month from Date\n",
    "def get_month(x):\n",
    "    date = str(x)\n",
    "    month = date[4:]\n",
    "    return month"
   ]
  },
  {
   "cell_type": "code",
   "execution_count": 6,
   "metadata": {
    "collapsed": false
   },
   "outputs": [],
   "source": [
    "# Adding the Month column to Train Data\n",
    "train['Month'] = train.apply(lambda x : get_month(x['Date']), axis=1)"
   ]
  },
  {
   "cell_type": "markdown",
   "metadata": {},
   "source": [
    "### Extracting the patient details for one recent year only"
   ]
  },
  {
   "cell_type": "code",
   "execution_count": 7,
   "metadata": {
    "collapsed": true
   },
   "outputs": [],
   "source": [
    "pid_list = set(train['PID'])\n",
    "test_df = pd.DataFrame()\n",
    "for item in pid_list:\n",
    "    df = train[train['Year']=='2013']\n",
    "    df1 = df[df['PID']==item]\n",
    "    if df1.shape[0]<10:\n",
    "        df1_month = set(df1['Month'])\n",
    "        df2 = train[train['Year']=='2012']\n",
    "        df3 = df2[df2['PID']==item]\n",
    "        df3_month = set(df3['Month'])\n",
    "        difference_month = df3_month.difference(df1_month)\n",
    "        for m in difference_month:\n",
    "            df4 = df3[df3['Month']==m]\n",
    "            df1 = df1.append(df4)\n",
    "    if df1.shape[0]<10:\n",
    "        df1_month = set(df1['Month'])\n",
    "        df2 = train[train['Year']=='2011']\n",
    "        df3 = df2[df2['PID']==item]\n",
    "        df3_month = set(df3['Month'])\n",
    "        difference_month = df3_month.difference(df1_month)\n",
    "        for m in difference_month:\n",
    "            df4 = df3[df3['Month']==m]\n",
    "            df1 = df1.append(df4)\n",
    "        \n",
    "    test_df = test_df.append(df1)  \n",
    "    \n",
    "train = test_df"
   ]
  },
  {
   "cell_type": "markdown",
   "metadata": {},
   "source": [
    "### Computing the Probability of Occurrence"
   ]
  },
  {
   "cell_type": "markdown",
   "metadata": {},
   "source": [
    "#### Formula used : P(E/M) = [ P(M/E)*P(E) ] / P(M) "
   ]
  },
  {
   "cell_type": "code",
   "execution_count": 8,
   "metadata": {
    "collapsed": true
   },
   "outputs": [],
   "source": [
    "# Probability for Event P(E)\n",
    "\n",
    "new_train_df = train.groupby([\"PID\",\"Event\"]).size().reset_index(name=\"count_of_event_for_patient\")\n",
    "trial_train = train.merge(new_train_df, on = ['PID','Event'])\n",
    "\n",
    "new_train_df1 = train.groupby([\"PID\"]).size().reset_index(name=\"total_events_for_patient\") \n",
    "trial_train = trial_train.merge(new_train_df1, on = ['PID'])\n",
    "\n",
    "trial_train['prob_of_event'] = trial_train['count_of_event_for_patient'] / trial_train['total_events_for_patient']\n",
    "\n",
    "train = trial_train"
   ]
  },
  {
   "cell_type": "code",
   "execution_count": 9,
   "metadata": {
    "collapsed": true
   },
   "outputs": [],
   "source": [
    "# Probability for Month P(M)\n",
    "\n",
    "new_train_df = train.groupby([\"PID\",\"Month\"]).size().reset_index(name=\"count_of_month_for_patient\")\n",
    "trial_train = train.merge(new_train_df, on = ['PID','Month'])\n",
    "\n",
    "new_train_df1 = train.groupby([\"PID\"]).size().reset_index(name=\"total_months_for_patient\") \n",
    "trial_train = trial_train.merge(new_train_df1, on = ['PID'])\n",
    "\n",
    "trial_train['prob_of_month'] = trial_train['count_of_month_for_patient'] / trial_train['total_months_for_patient']\n",
    "train = trial_train"
   ]
  },
  {
   "cell_type": "code",
   "execution_count": 10,
   "metadata": {
    "collapsed": true
   },
   "outputs": [],
   "source": [
    "# Probability of Month Given the Event P(M/E)\n",
    "\n",
    "new_train_df = train.groupby([\"PID\",\"Event\",\"Month\"]).size().reset_index(name=\"count_of_month_and_event_for_patient\")\n",
    "trial_train = train.merge(new_train_df, on = ['PID','Event','Month'])\n",
    "\n",
    "new_train_df1 = train.groupby([\"PID\"]).size().reset_index(name=\"total_event_for_patient_when_month\") \n",
    "trial_train = trial_train.merge(new_train_df1, on = ['PID'])\n",
    "\n",
    "trial_train['prob_of_month_when_event'] = trial_train['count_of_month_and_event_for_patient'] / trial_train['total_event_for_patient_when_month']\n",
    "train = trial_train"
   ]
  },
  {
   "cell_type": "code",
   "execution_count": 13,
   "metadata": {
    "collapsed": true
   },
   "outputs": [],
   "source": [
    "# Computing the Probability\n",
    "train['prob_of_occurrence'] = (train['prob_of_month_when_event']*train['prob_of_event']) / train['prob_of_month']\n",
    "new_sort = train"
   ]
  },
  {
   "cell_type": "code",
   "execution_count": 16,
   "metadata": {
    "collapsed": false
   },
   "outputs": [],
   "source": [
    "# Extracting the Top 10 probability Events\n",
    "freq_events1 = pd.crosstab(index=[new_sort['PID']],columns=new_sort['Event'], values = new_sort['prob_of_occurrence'], aggfunc=np.mean)\n",
    "freq_events1.fillna(0)\n",
    "freq_events1.reset_index(drop=False, inplace=True)\n",
    "\n",
    "submit = freq_events1.loc[:,freq_events1.columns != 'PID'].apply(lambda x: pd.Series(x.sort_values(ascending=False).iloc[:10].index, index=['Event'+str(x) for x in range(1,11)]),axis=1).reset_index()\n",
    "submit.drop('index',inplace=True, axis=1)\n",
    "\n",
    "submit['PID'] = freq_events1['PID']\n",
    "\n",
    "cols = submit.columns.tolist()\n",
    "cols = cols[-1:] + cols[:-1]\n",
    "submit = submit[cols]\n",
    "\n",
    "# final submission\n",
    "submit.to_csv(\"submission.csv\", index=False)"
   ]
  },
  {
   "cell_type": "code",
   "execution_count": null,
   "metadata": {
    "collapsed": true
   },
   "outputs": [],
   "source": []
  }
 ],
 "metadata": {
  "anaconda-cloud": {},
  "kernelspec": {
   "display_name": "Python [conda root]",
   "language": "python",
   "name": "conda-root-py"
  },
  "language_info": {
   "codemirror_mode": {
    "name": "ipython",
    "version": 2
   },
   "file_extension": ".py",
   "mimetype": "text/x-python",
   "name": "python",
   "nbconvert_exporter": "python",
   "pygments_lexer": "ipython2",
   "version": "2.7.12"
  }
 },
 "nbformat": 4,
 "nbformat_minor": 1
}
